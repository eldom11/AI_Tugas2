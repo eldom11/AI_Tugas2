{
 "cells": [
  {
   "cell_type": "code",
   "execution_count": 1,
   "id": "ae59e182",
   "metadata": {},
   "outputs": [
    {
     "data": {
      "image/jpeg": "[encoded data removed]",
      "text/plain": [
       "<IPython.core.display.Image object>"
      ]
     },
     "execution_count": 1,
     "metadata": {},
     "output_type": "execute_result"
    }
   ],
   "source": [
    "from IPython.display import Image\n",
    "Image(filename='gambarkasus2.jpg')"
   ]
  },
  {
   "cell_type": "code",
   "execution_count": 5,
   "id": "2db3b688",
   "metadata": {},
   "outputs": [
    {
     "name": "stdout",
     "output_type": "stream",
     "text": [
      "1  2  3  \n",
      "8  0  4  \n",
      "7  6  5  \n",
      "\n",
      "1  2  3  \n",
      "8  6  4  \n",
      "7  0  5  \n",
      "\n",
      "1  2  3  \n",
      "6  8  4  \n",
      "7  0  5  \n",
      "\n",
      "6  2  3  \n",
      "1  8  4  \n",
      "7  0  5  \n",
      "\n",
      "2  6  3  \n",
      "1  8  4  \n",
      "7  0  5  \n",
      "\n",
      "2  8  3  \n",
      "1  6  4  \n",
      "7  0  5  \n",
      "\n"
     ]
    }
   ],
   "source": [
    "class AntrianPrioritas:\n",
    "    def __init__(self):\n",
    "        self.heap = []\n",
    "\n",
    "    def tambah(self, k):\n",
    "        self.heap.append(k)\n",
    "\n",
    "    def hapus(self):\n",
    "        min_elemen = min(self.heap)\n",
    "        self.heap.remove(min_elemen)\n",
    "        return min_elemen\n",
    "\n",
    "    def kosong(self):\n",
    "        return len(self.heap) == 0\n",
    "\n",
    "class simpul:\n",
    "    def __init__(self, induk, matriks, posisi_kotak_kosong, biaya, level):\n",
    "        self.induk = induk\n",
    "        self.matriks = matriks\n",
    "        self.posisi_kotak_kosong = posisi_kotak_kosong\n",
    "        self.biaya = biaya\n",
    "        self.level = level\n",
    "\n",
    "    def __lt__(self, berikutnya):\n",
    "        return self.biaya < berikutnya.biaya\n",
    "\n",
    "def hitungBiaya(matriks, akhir):\n",
    "    count = 0\n",
    "    for i in range(n):\n",
    "        for j in range(n):\n",
    "            if matriks[i][j] and matriks[i][j] != akhir[i][j]:\n",
    "                count += 1\n",
    "    return count\n",
    "\n",
    "def simpulBaru(matriks, posisi_kotak_kosong, posisi_kotak_kosong_baru, level, induk, akhir):\n",
    "    matriks_baru = [list(row) for row in matriks]\n",
    "    x1, y1 = posisi_kotak_kosong\n",
    "    x2, y2 = posisi_kotak_kosong_baru\n",
    "    matriks_baru[x1][y1], matriks_baru[x2][y2] = matriks_baru[x2][y2], matriks_baru[x1][y1]\n",
    "    biaya = hitungBiaya(matriks_baru, akhir)\n",
    "    return simpul(induk, matriks_baru, posisi_kotak_kosong_baru, biaya, level)\n",
    "\n",
    "def cetakMatriks(matriks):\n",
    "    for i in range(n):\n",
    "        for j in range(n):\n",
    "            print(\"%d \" % (matriks[i][j]), end=\" \")\n",
    "        print()\n",
    "\n",
    "def aman(x, y):\n",
    "    return 0 <= x < n and 0 <= y < n\n",
    "\n",
    "def cetakJalur(akar):\n",
    "    if akar is None:\n",
    "        return\n",
    "    cetakJalur(akar.induk)\n",
    "    cetakMatriks(akar.matriks)\n",
    "    print()\n",
    "\n",
    "def solusi(mulai, posisi_kotak_kosong, akhir):\n",
    "    antrian_prioritas = AntrianPrioritas()\n",
    "    biaya = hitungBiaya(mulai, akhir)\n",
    "    akar = simpul(None, mulai, posisi_kotak_kosong, biaya, 0)\n",
    "    antrian_prioritas.tambah(akar)\n",
    "\n",
    "    while not antrian_prioritas.kosong():\n",
    "        minimum = antrian_prioritas.hapus()\n",
    "        if minimum.biaya == 0:\n",
    "            cetakJalur(minimum)\n",
    "            return\n",
    "\n",
    "        for i in range(4):\n",
    "            posisi_kotak_kosong_baru = [minimum.posisi_kotak_kosong[0] + baris[i], minimum.posisi_kotak_kosong[1] + kolom[i]]\n",
    "            if aman(posisi_kotak_kosong_baru[0], posisi_kotak_kosong_baru[1]):\n",
    "                anak = simpulBaru(minimum.matriks, minimum.posisi_kotak_kosong, posisi_kotak_kosong_baru, minimum.level + 1, minimum, akhir)\n",
    "                antrian_prioritas.tambah(anak)\n",
    "                \n",
    "\n",
    "n = 3\n",
    "baris = [1, 0, -1, 0]\n",
    "kolom = [0, -1, 0, 1]\n",
    "\n",
    "awal = [[1, 2, 3],\n",
    "        [8, 0, 4],\n",
    "        [7, 6, 5]]\n",
    "\n",
    "akhir = [[2, 8, 3],\n",
    "         [1, 6, 4],\n",
    "         [7, 0, 5]]\n",
    "\n",
    "posisi_kotak_kosong = [2, 1]\n",
    "\n",
    "solusi(awal, posisi_kotak_kosong, akhir)\n"
   ]
  },
  {
   "cell_type": "code",
   "execution_count": null,
   "id": "0cdec77f",
   "metadata": {},
   "outputs": [],
   "source": []
  }
 ],
 "metadata": {
  "kernelspec": {
   "display_name": "Python 3 (ipykernel)",
   "language": "python",
   "name": "python3"
  },
  "language_info": {
   "codemirror_mode": {
    "name": "ipython",
    "version": 3
   },
   "file_extension": ".py",
   "mimetype": "text/x-python",
   "name": "python",
   "nbconvert_exporter": "python",
   "pygments_lexer": "ipython3",
   "version": "3.11.5"
  }
 },
 "nbformat": 4,
 "nbformat_minor": 5
}
